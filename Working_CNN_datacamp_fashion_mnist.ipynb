{
  "nbformat": 4,
  "nbformat_minor": 0,
  "metadata": {
    "colab": {
      "name": "Working_CNN_datacamp_fashion_mnist.ipynb",
      "version": "0.3.2",
      "provenance": [],
      "include_colab_link": true
    },
    "kernelspec": {
      "name": "python3",
      "display_name": "Python 3"
    }
  },
  "cells": [
    {
      "cell_type": "markdown",
      "metadata": {
        "id": "view-in-github",
        "colab_type": "text"
      },
      "source": [
        "<a href=\"https://colab.research.google.com/github/MechMaster95/MNSIT/blob/master/Working_CNN_datacamp_fashion_mnist.ipynb\" target=\"_parent\"><img src=\"https://colab.research.google.com/assets/colab-badge.svg\" alt=\"Open In Colab\"/></a>"
      ]
    },
    {
      "metadata": {
        "id": "yW1uKH3QGmk-",
        "colab_type": "code",
        "outputId": "c68a6225-9091-46c2-e1c3-4c2d65ef50ef",
        "colab": {
          "base_uri": "https://localhost:8080/",
          "height": 1956
        }
      },
      "cell_type": "code",
      "source": [
        "import keras\n",
        "from keras.datasets import fashion_mnist\n",
        "(train_X,train_Y),(test_X,test_Y) = fashion_mnist.load_data()\n",
        "\n",
        "import numpy as np\n",
        "from keras.utils import to_categorical ###??????\n",
        "import matplotlib.pyplot as plt\n",
        "\n",
        "print(\"training data shape: \",train_X.shape,train_Y.shape)\n",
        "print(\"test data shape: \",test_X.shape,test_Y.shape)\n",
        "# Find the unique numbers from the train labels\n",
        "\n",
        "classes = np.unique(train_Y)\n",
        "nClasses=len(classes)\n",
        "print(\"total no of outputs:\", nClasses)\n",
        "print(\"output classes :\", classes)\n",
        "\n",
        "import matplotlib.pyplot as plt\n",
        "plt.figure(figsize=[15,15])\n",
        "\n",
        "## Displaying the first image in the training set\n",
        "\n",
        "plt.subplot(1,2,1)\n",
        "plt.imshow(train_X[0,:,:], cmap=\"gray\")\n",
        "plt.title(\"Ground Truth : {}\".format(train_Y[0]))\n",
        "\n",
        "#### .format????\n",
        "\n",
        "## Displaying the first image in the test set\n",
        "\n",
        "plt.subplot(122)\n",
        "plt.imshow(test_X[0,:,:], cmap=\"gray\")\n",
        "plt.title(\"Ground Truth : {}\".format(test_Y[0]))\n",
        "\n",
        "\n",
        "train_X = train_X.reshape(-1,28,28,1)\n",
        "test_X = test_X.reshape(-1, 28, 28,1)\n",
        "train_X.shape, test_X.shape\n",
        "\n",
        "train_X = train_X.astype('float32')\n",
        "test_X = test_X.astype(\"float32\")\n",
        "##why are we changing types?????\n",
        "train_X = train_X/255.\n",
        "test_X = test_X/255.\n",
        "\n",
        "## changing the labels to one hot encoding\n",
        "train_Y_one_hot = to_categorical(train_Y)\n",
        "test_Y_one_hot = to_categorical(test_Y)\n",
        "print(\"original label {}\".format(train_Y[0]))\n",
        "print(\"one hot encoding\", train_Y_one_hot[0])\n",
        "\n",
        "from sklearn.model_selection import train_test_split\n",
        "train_X, valid_X, train_label, valid_label = train_test_split(train_X, train_Y_one_hot, test_size=0.2, random_state=13)\n",
        "\n",
        "### we use random state as a measure that every time we run the code the training and \n",
        "#validation split is occuring in the same random manner i.e. same samples\n",
        "\n",
        "import keras\n",
        "from keras.models import Sequential,Input,Model\n",
        "from keras.layers import Dense, Dropout, Flatten\n",
        "from keras.layers import Conv2D, MaxPooling2D\n",
        "from keras.layers.normalization import BatchNormalization\n",
        "from keras.layers.advanced_activations import LeakyReLU\n",
        "\n",
        "batch_size = 64\n",
        "epochs =  20\n",
        "num_classes = 10\n",
        "\n",
        "fashion_model = Sequential()\n",
        "fashion_model.add(Conv2D(32, kernel_size=(3,3),activation=\"linear\",input_shape=(28,28,1),padding=\"same\"))\n",
        "fashion_model.add(LeakyReLU(alpha=0.1))\n",
        "fashion_model.add(MaxPooling2D((2,2),padding=\"same\"))\n",
        "fashion_model.add(Conv2D(64,(3,3),activation=\"linear\",padding=\"same\"))\n",
        "fashion_model.add(LeakyReLU(alpha=0.1))\n",
        "fashion_model.add(MaxPooling2D(pool_size=(2, 2),padding='same'))\n",
        "fashion_model.add(Conv2D(128, (3, 3), activation='linear',padding='same'))\n",
        "fashion_model.add(LeakyReLU(alpha=0.1))                  \n",
        "fashion_model.add(MaxPooling2D(pool_size=(2, 2),padding='same'))\n",
        "fashion_model.add(Flatten())\n",
        "fashion_model.add(Dense(128, activation='linear'))\n",
        "fashion_model.add(LeakyReLU(alpha=0.1))                  \n",
        "fashion_model.add(Dense(num_classes, activation='softmax'))\n",
        "\n",
        "fashion_model.compile(loss=keras.losses.categorical_crossentropy, optimizer=keras.optimizers.Adam(),metrics=[\"accuracy\"])\n",
        "fashion_model.summary()\n",
        "fashion_train = fashion_model.fit(train_X,train_label, batch_size=batch_size,epochs=epochs,verbose=1,validation_data=(valid_X, valid_label))"
      ],
      "execution_count": 0,
      "outputs": [
        {
          "output_type": "stream",
          "text": [
            "Using TensorFlow backend.\n"
          ],
          "name": "stderr"
        },
        {
          "output_type": "stream",
          "text": [
            "Downloading data from http://fashion-mnist.s3-website.eu-central-1.amazonaws.com/train-labels-idx1-ubyte.gz\n",
            "32768/29515 [=================================] - 0s 3us/step\n",
            "Downloading data from http://fashion-mnist.s3-website.eu-central-1.amazonaws.com/train-images-idx3-ubyte.gz\n",
            "26427392/26421880 [==============================] - 6s 0us/step\n",
            "Downloading data from http://fashion-mnist.s3-website.eu-central-1.amazonaws.com/t10k-labels-idx1-ubyte.gz\n",
            "8192/5148 [===============================================] - 0s 0us/step\n",
            "Downloading data from http://fashion-mnist.s3-website.eu-central-1.amazonaws.com/t10k-images-idx3-ubyte.gz\n",
            "4423680/4422102 [==============================] - 8s 2us/step\n",
            "training data shape:  (60000, 28, 28) (60000,)\n",
            "test data shape:  (10000, 28, 28) (10000,)\n",
            "total no of outputs: 10\n",
            "output classes : [0 1 2 3 4 5 6 7 8 9]\n",
            "original label 9\n",
            "one hot encoding [0. 0. 0. 0. 0. 0. 0. 0. 0. 1.]\n",
            "_________________________________________________________________\n",
            "Layer (type)                 Output Shape              Param #   \n",
            "=================================================================\n",
            "conv2d_1 (Conv2D)            (None, 28, 28, 32)        320       \n",
            "_________________________________________________________________\n",
            "leaky_re_lu_1 (LeakyReLU)    (None, 28, 28, 32)        0         \n",
            "_________________________________________________________________\n",
            "max_pooling2d_1 (MaxPooling2 (None, 14, 14, 32)        0         \n",
            "_________________________________________________________________\n",
            "conv2d_2 (Conv2D)            (None, 14, 14, 64)        18496     \n",
            "_________________________________________________________________\n",
            "leaky_re_lu_2 (LeakyReLU)    (None, 14, 14, 64)        0         \n",
            "_________________________________________________________________\n",
            "max_pooling2d_2 (MaxPooling2 (None, 7, 7, 64)          0         \n",
            "_________________________________________________________________\n",
            "conv2d_3 (Conv2D)            (None, 7, 7, 128)         73856     \n",
            "_________________________________________________________________\n",
            "leaky_re_lu_3 (LeakyReLU)    (None, 7, 7, 128)         0         \n",
            "_________________________________________________________________\n",
            "max_pooling2d_3 (MaxPooling2 (None, 4, 4, 128)         0         \n",
            "_________________________________________________________________\n",
            "flatten_1 (Flatten)          (None, 2048)              0         \n",
            "_________________________________________________________________\n",
            "dense_1 (Dense)              (None, 128)               262272    \n",
            "_________________________________________________________________\n",
            "leaky_re_lu_4 (LeakyReLU)    (None, 128)               0         \n",
            "_________________________________________________________________\n",
            "dense_2 (Dense)              (None, 10)                1290      \n",
            "=================================================================\n",
            "Total params: 356,234\n",
            "Trainable params: 356,234\n",
            "Non-trainable params: 0\n",
            "_________________________________________________________________\n",
            "Train on 48000 samples, validate on 12000 samples\n",
            "Epoch 1/20\n",
            "48000/48000 [==============================] - 118s 2ms/step - loss: 0.4642 - acc: 0.8309 - val_loss: 0.3338 - val_acc: 0.8818\n",
            "Epoch 2/20\n",
            "48000/48000 [==============================] - 116s 2ms/step - loss: 0.2905 - acc: 0.8951 - val_loss: 0.2969 - val_acc: 0.8919\n",
            "Epoch 3/20\n",
            "48000/48000 [==============================] - 117s 2ms/step - loss: 0.2443 - acc: 0.9103 - val_loss: 0.2700 - val_acc: 0.9012\n",
            "Epoch 4/20\n",
            "48000/48000 [==============================] - 116s 2ms/step - loss: 0.2095 - acc: 0.9230 - val_loss: 0.2352 - val_acc: 0.9147\n",
            "Epoch 5/20\n",
            "48000/48000 [==============================] - 116s 2ms/step - loss: 0.1869 - acc: 0.9308 - val_loss: 0.2287 - val_acc: 0.9156\n",
            "Epoch 6/20\n",
            "48000/48000 [==============================] - 116s 2ms/step - loss: 0.1604 - acc: 0.9407 - val_loss: 0.2366 - val_acc: 0.9145\n",
            "Epoch 7/20\n",
            "48000/48000 [==============================] - 116s 2ms/step - loss: 0.1428 - acc: 0.9464 - val_loss: 0.2295 - val_acc: 0.9208\n",
            "Epoch 8/20\n",
            "48000/48000 [==============================] - 117s 2ms/step - loss: 0.1228 - acc: 0.9548 - val_loss: 0.2400 - val_acc: 0.9197\n",
            "Epoch 9/20\n",
            "48000/48000 [==============================] - 117s 2ms/step - loss: 0.1068 - acc: 0.9598 - val_loss: 0.2514 - val_acc: 0.9190\n",
            "Epoch 10/20\n",
            "48000/48000 [==============================] - 116s 2ms/step - loss: 0.0902 - acc: 0.9659 - val_loss: 0.2716 - val_acc: 0.9197\n",
            "Epoch 11/20\n",
            "48000/48000 [==============================] - 116s 2ms/step - loss: 0.0754 - acc: 0.9709 - val_loss: 0.2742 - val_acc: 0.9216\n",
            "Epoch 12/20\n",
            "48000/48000 [==============================] - 116s 2ms/step - loss: 0.0641 - acc: 0.9758 - val_loss: 0.3416 - val_acc: 0.9127\n",
            "Epoch 13/20\n",
            "48000/48000 [==============================] - 116s 2ms/step - loss: 0.0595 - acc: 0.9777 - val_loss: 0.3125 - val_acc: 0.9185\n",
            "Epoch 14/20\n",
            "48000/48000 [==============================] - 115s 2ms/step - loss: 0.0513 - acc: 0.9800 - val_loss: 0.3503 - val_acc: 0.9171\n",
            "Epoch 15/20\n",
            "48000/48000 [==============================] - 115s 2ms/step - loss: 0.0459 - acc: 0.9830 - val_loss: 0.3302 - val_acc: 0.9185\n",
            "Epoch 16/20\n",
            "48000/48000 [==============================] - 116s 2ms/step - loss: 0.0372 - acc: 0.9859 - val_loss: 0.3981 - val_acc: 0.9203\n",
            "Epoch 17/20\n",
            "48000/48000 [==============================] - 115s 2ms/step - loss: 0.0395 - acc: 0.9855 - val_loss: 0.4094 - val_acc: 0.9200\n",
            "Epoch 18/20\n",
            "48000/48000 [==============================] - 115s 2ms/step - loss: 0.0330 - acc: 0.9881 - val_loss: 0.4211 - val_acc: 0.9209\n",
            "Epoch 19/20\n",
            "48000/48000 [==============================] - 116s 2ms/step - loss: 0.0314 - acc: 0.9883 - val_loss: 0.3901 - val_acc: 0.9224\n",
            "Epoch 20/20\n",
            "48000/48000 [==============================] - 115s 2ms/step - loss: 0.0332 - acc: 0.9880 - val_loss: 0.4190 - val_acc: 0.9195\n"
          ],
          "name": "stdout"
        },
        {
          "output_type": "display_data",
          "data": {
            "image/png": "[encoded data removed]",
            "text/plain": [
              "<matplotlib.figure.Figure at 0x7f592718a7b8>"
            ]
          },
          "metadata": {
            "tags": []
          }
        }
      ]
    },
    {
      "metadata": {
        "id": "u1QaOG4nJzBH",
        "colab_type": "text"
      },
      "cell_type": "markdown",
      "source": [
        "#Convolutional Neural Nets\n"
      ]
    },
    {
      "metadata": {
        "id": "uEjrPRBTJ599",
        "colab_type": "code",
        "colab": {}
      },
      "cell_type": "code",
      "source": [
        ""
      ],
      "execution_count": 0,
      "outputs": []
    },
    {
      "metadata": {
        "id": "EVBZo-4lRRRt",
        "colab_type": "code",
        "colab": {}
      },
      "cell_type": "code",
      "source": [
        "fashion_model.save(\"fashion_model_dropout.h5py\")"
      ],
      "execution_count": 0,
      "outputs": []
    },
    {
      "metadata": {
        "id": "UM9Qj5bxRfek",
        "colab_type": "code",
        "outputId": "beb92f30-97f1-4201-a2ac-ec258b2c2837",
        "colab": {
          "base_uri": "https://localhost:8080/",
          "height": 34
        }
      },
      "cell_type": "code",
      "source": [
        "test_eval = fashion_model.evaluate(test_X, test_Y_one_hot, verbose=1)"
      ],
      "execution_count": 0,
      "outputs": [
        {
          "output_type": "stream",
          "text": [
            "10000/10000 [==============================] - 6s 647us/step\n"
          ],
          "name": "stdout"
        }
      ]
    }
  ]
}